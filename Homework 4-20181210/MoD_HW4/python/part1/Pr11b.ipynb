{
 "cells": [
  {
   "cell_type": "code",
   "execution_count": 1,
   "metadata": {},
   "outputs": [],
   "source": [
    "import scipy.io\n",
    "import numpy as np\n",
    "from scipy.sparse import csr_matrix\n",
    "from projL1 import projL1\n",
    "from time import time\n",
    "\n",
    "from projL1 import *"
   ]
  },
  {
   "cell_type": "code",
   "execution_count": 10,
   "metadata": {},
   "outputs": [
    {
     "name": "stdout",
     "output_type": "stream",
     "text": [
      "  (0, 0)\t1\n",
      "  (1, 1)\t2\n",
      "  (2, 2)\t3\n",
      "  (3, 3)\t4\n",
      "  (4, 4)\t5\n"
     ]
    }
   ],
   "source": [
    "j = [1,2,3,4,5]\n",
    "\n",
    "t = scipy.sparse.spdiags(j, 0, 9,9)\n",
    "print t"
   ]
  },
  {
   "cell_type": "code",
   "execution_count": 25,
   "metadata": {},
   "outputs": [],
   "source": [
    "def projNuc(Z, kappa):\n",
    "    p = Z.shape[0]\n",
    "    # Compute SVD decomposition\n",
    "    U , s, Vt = scipy.linalg.svd(Z) \n",
    "    \n",
    "    # Project into l1 norm ball\n",
    "    s_proj = projL1(s, kappa)\n",
    "    \n",
    "    # Generate diagonal matrix of size [dim(U), dim(Vt)]\n",
    "    S = scipy.sparse.spdiags(s_proj, 0, U.shape[0], Vt.shape[0]) \n",
    "    \n",
    "    #print U.shape, S.shape, Vt.shape\n",
    "    return U.dot(S.toarray()).dot(Vt)"
   ]
  },
  {
   "cell_type": "code",
   "execution_count": 26,
   "metadata": {},
   "outputs": [
    {
     "name": "stdout",
     "output_type": "stream",
     "text": [
      "proj for 100k data takes  1.03593206406  sec\n"
     ]
    }
   ],
   "source": [
    "data = scipy.io.loadmat('./dataset/ml-100k/ub_base')  # load 100k dataset\n",
    "\n",
    "Rating = data['Rating'].flatten()\n",
    "UserID = data['UserID'].flatten() - 1  # Python indexing starts from 0 whereas Matlab from 1\n",
    "MovID = data['MovID'].flatten() - 1    # Python indexing starts from 0 whereas Matlab from 1\n",
    "\n",
    "nM = np.amax(data['MovID'])\n",
    "nU = np.amax(data['UserID'])\n",
    "\n",
    "Z = csr_matrix((Rating, (MovID, UserID)),shape=(nM, nU),dtype=float).toarray()\n",
    "kappa = 5000\n",
    "\n",
    "tstart = time()\n",
    "Z_proj = projNuc(Z, kappa)\n",
    "elapsed = time() - tstart\n",
    "print \"proj for 100k data takes \",elapsed,\" sec\""
   ]
  },
  {
   "cell_type": "code",
   "execution_count": 27,
   "metadata": {},
   "outputs": [
    {
     "name": "stdout",
     "output_type": "stream",
     "text": [
      "proj for 1M data takes  58.1755650043  sec\n"
     ]
    }
   ],
   "source": [
    "# NOTE: This one can take few minutes!\n",
    "data = scipy.io.loadmat('./dataset/ml-1m/ml1m_base')  # load 1M dataset\n",
    "\n",
    "Rating = data['Rating'].flatten()\n",
    "UserID = data['UserID'].flatten() - 1  # Python indexing starts from 0 whereas Matlab from 1\n",
    "MovID = data['MovID'].flatten() - 1    # Python indexing starts from 0 whereas Matlab from 1\n",
    "\n",
    "nM = np.amax(data['MovID'])\n",
    "nU = np.amax(data['UserID'])\n",
    "\n",
    "Z = csr_matrix((Rating, (MovID, UserID)),shape=(nM, nU),dtype=float).toarray()\n",
    "kappa = 5000\n",
    "\n",
    "tstart = time()\n",
    "Z_proj = projNuc(Z, kappa)\n",
    "elapsed = time() - tstart\n",
    "print \"proj for 1M data takes \",elapsed,\" sec\""
   ]
  }
 ],
 "metadata": {
  "anaconda-cloud": {},
  "kernelspec": {
   "display_name": "Python 2",
   "language": "python",
   "name": "python2"
  },
  "language_info": {
   "codemirror_mode": {
    "name": "ipython",
    "version": 2
   },
   "file_extension": ".py",
   "mimetype": "text/x-python",
   "name": "python",
   "nbconvert_exporter": "python",
   "pygments_lexer": "ipython2",
   "version": "2.7.15"
  }
 },
 "nbformat": 4,
 "nbformat_minor": 2
}
