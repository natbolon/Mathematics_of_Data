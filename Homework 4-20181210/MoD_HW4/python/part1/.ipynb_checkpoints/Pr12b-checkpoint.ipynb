{
 "cells": [
  {
   "cell_type": "code",
   "execution_count": 1,
   "metadata": {},
   "outputs": [],
   "source": [
    "import scipy.io\n",
    "import numpy as np\n",
    "from scipy.sparse import csr_matrix\n",
    "from scipy.sparse import linalg\n",
    "from time import time"
   ]
  },
  {
   "cell_type": "code",
   "execution_count": 2,
   "metadata": {},
   "outputs": [],
   "source": [
    "def sharpNuc(Z, kappa):\n",
    "    # Compute top singular vectors of Z\n",
    "    U, s, Vt = scipy.sparse.linalg.svds(Z, k=1)\n",
    "    \n",
    "    #print U.shape, Vt.shape\n",
    "    return -kappa * U.dot(Vt)"
   ]
  },
  {
   "cell_type": "code",
   "execution_count": 3,
   "metadata": {},
   "outputs": [],
   "source": [
    "data = scipy.io.loadmat('./dataset/ml-100k/ub_base')  # load 100k dataset\n",
    "\n",
    "Rating = data['Rating'].flatten()\n",
    "UserID = data['UserID'].flatten() - 1  # Python indexing starts from 0 whereas Matlab from 1\n",
    "MovID = data['MovID'].flatten() - 1    # Python indexing starts from 0 whereas Matlab from 1\n",
    "\n",
    "nM = np.amax(data['MovID'])\n",
    "nU = np.amax(data['UserID'])\n",
    "\n",
    "Z = csr_matrix((Rating, (MovID, UserID)),shape=(nM, nU),dtype=float)\n",
    "kappa = 5000\n",
    "\n",
    "def small_sharp(Z, kappa):\n",
    "    tstart = time()\n",
    "    Z_proj = sharpNuc(Z, kappa)\n",
    "    elapsed = time() - tstart\n",
    "    print \"sharp of 100k data takes \",elapsed,\" sec\"\n",
    "    return elapsed"
   ]
  },
  {
   "cell_type": "code",
   "execution_count": 4,
   "metadata": {},
   "outputs": [
    {
     "name": "stdout",
     "output_type": "stream",
     "text": [
      "sharp of 100k data takes  0.0914299488068  sec\n",
      "sharp of 100k data takes  0.0138380527496  sec\n",
      "sharp of 100k data takes  0.0145871639252  sec\n",
      "sharp of 100k data takes  0.0139410495758  sec\n",
      "sharp of 100k data takes  0.0139210224152  sec\n",
      "mean time for 100k data takes 0.029543447494506835 sec\n"
     ]
    }
   ],
   "source": [
    "time_100k = []\n",
    "\n",
    "for i in range(5):\n",
    "    time_100k.append(small_sharp(Z,kappa))\n",
    "\n",
    "print \"mean time for 100k data takes\", np.mean(np.array(time_100k)), \"sec\""
   ]
  },
  {
   "cell_type": "code",
   "execution_count": 5,
   "metadata": {},
   "outputs": [],
   "source": [
    "# NOTE: This one can take few minutes!\n",
    "data = scipy.io.loadmat('./dataset/ml-1m/ml1m_base')  # load 1M dataset\n",
    "\n",
    "Rating = data['Rating'].flatten()\n",
    "UserID = data['UserID'].flatten() - 1  # Python indexing starts from 0 whereas Matlab from 1\n",
    "MovID = data['MovID'].flatten() - 1    # Python indexing starts from 0 whereas Matlab from 1\n",
    "\n",
    "nM = np.amax(data['MovID'])\n",
    "nU = np.amax(data['UserID'])\n",
    "\n",
    "Z = csr_matrix((Rating, (MovID, UserID)),shape=(nM, nU),dtype=float)\n",
    "kappa = 5000\n",
    "\n",
    "def large_sharp(Z, kappa):\n",
    "    tstart = time()\n",
    "    Z_proj = sharpNuc(Z, kappa)\n",
    "    elapsed = time() - tstart\n",
    "    print \"sharp of 1M data takes \",elapsed,\" sec\"\n",
    "    return elapsed"
   ]
  },
  {
   "cell_type": "code",
   "execution_count": 6,
   "metadata": {},
   "outputs": [
    {
     "name": "stdout",
     "output_type": "stream",
     "text": [
      "sharp of 100k data takes  0.280818939209  sec\n",
      "sharp of 100k data takes  0.259896039963  sec\n",
      "sharp of 100k data takes  0.283408164978  sec\n",
      "sharp of 100k data takes  0.28193116188  sec\n",
      "sharp of 100k data takes  0.301149845123  sec\n",
      "mean time for 1M data takes 0.28144083023071287 sec\n"
     ]
    }
   ],
   "source": [
    "time_1M = []\n",
    "\n",
    "for i in range(5):\n",
    "    time_1M.append(small_sharp(Z,kappa))\n",
    "\n",
    "print \"mean time for 1M data takes\", np.mean(np.array(time_1M)), \"sec\""
   ]
  }
 ],
 "metadata": {
  "anaconda-cloud": {},
  "kernelspec": {
   "display_name": "Python 2",
   "language": "python",
   "name": "python2"
  },
  "language_info": {
   "codemirror_mode": {
    "name": "ipython",
    "version": 2
   },
   "file_extension": ".py",
   "mimetype": "text/x-python",
   "name": "python",
   "nbconvert_exporter": "python",
   "pygments_lexer": "ipython2",
   "version": "2.7.15"
  }
 },
 "nbformat": 4,
 "nbformat_minor": 2
}
