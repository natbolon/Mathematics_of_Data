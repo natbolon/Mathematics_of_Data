{
 "cells": [
  {
   "cell_type": "code",
   "execution_count": 1,
   "metadata": {},
   "outputs": [],
   "source": [
    "import scipy.io\n",
    "import numpy as np\n",
    "from scipy.sparse import csr_matrix\n",
    "from scipy.sparse import linalg\n",
    "from time import time"
   ]
  },
  {
   "cell_type": "code",
   "execution_count": 2,
   "metadata": {},
   "outputs": [],
   "source": [
    "def sharpNuc(Z, kappa):\n",
    "    # Compute top singular vectors of Z\n",
    "    U, s, Vt = scipy.sparse.linalg.svds(Z, k=1)\n",
    "    \n",
    "    #print U.shape, Vt.shape\n",
    "    return -kappa * U.dot(Vt)"
   ]
  },
  {
   "cell_type": "code",
   "execution_count": 3,
   "metadata": {},
   "outputs": [
    {
     "name": "stdout",
     "output_type": "stream",
     "text": [
      "sharp of 100k data takes  0.0237510204315  sec\n"
     ]
    }
   ],
   "source": [
    "data = scipy.io.loadmat('./dataset/ml-100k/ub_base')  # load 100k dataset\n",
    "\n",
    "Rating = data['Rating'].flatten()\n",
    "UserID = data['UserID'].flatten() - 1  # Python indexing starts from 0 whereas Matlab from 1\n",
    "MovID = data['MovID'].flatten() - 1    # Python indexing starts from 0 whereas Matlab from 1\n",
    "\n",
    "nM = np.amax(data['MovID'])\n",
    "nU = np.amax(data['UserID'])\n",
    "\n",
    "Z = csr_matrix((Rating, (MovID, UserID)),shape=(nM, nU),dtype=float)\n",
    "kappa = 5000\n",
    "\n",
    "tstart = time()\n",
    "Z_proj = sharpNuc(Z, kappa)\n",
    "elapsed = time() - tstart\n",
    "print \"sharp of 100k data takes \",elapsed,\" sec\""
   ]
  },
  {
   "cell_type": "code",
   "execution_count": 4,
   "metadata": {},
   "outputs": [
    {
     "name": "stdout",
     "output_type": "stream",
     "text": [
      "sharp of 1M data takes  0.20238494873  sec\n"
     ]
    }
   ],
   "source": [
    "# NOTE: This one can take few minutes!\n",
    "data = scipy.io.loadmat('./dataset/ml-1m/ml1m_base')  # load 1M dataset\n",
    "\n",
    "Rating = data['Rating'].flatten()\n",
    "UserID = data['UserID'].flatten() - 1  # Python indexing starts from 0 whereas Matlab from 1\n",
    "MovID = data['MovID'].flatten() - 1    # Python indexing starts from 0 whereas Matlab from 1\n",
    "\n",
    "nM = np.amax(data['MovID'])\n",
    "nU = np.amax(data['UserID'])\n",
    "\n",
    "Z = csr_matrix((Rating, (MovID, UserID)),shape=(nM, nU),dtype=float)\n",
    "kappa = 5000\n",
    "\n",
    "tstart = time()\n",
    "Z_proj = sharpNuc(Z, kappa)\n",
    "elapsed = time() - tstart\n",
    "print \"sharp of 1M data takes \",elapsed,\" sec\""
   ]
  }
 ],
 "metadata": {
  "anaconda-cloud": {},
  "kernelspec": {
   "display_name": "Python 2",
   "language": "python",
   "name": "python2"
  },
  "language_info": {
   "codemirror_mode": {
    "name": "ipython",
    "version": 2
   },
   "file_extension": ".py",
   "mimetype": "text/x-python",
   "name": "python",
   "nbconvert_exporter": "python",
   "pygments_lexer": "ipython2",
   "version": "2.7.15"
  }
 },
 "nbformat": 4,
 "nbformat_minor": 2
}
