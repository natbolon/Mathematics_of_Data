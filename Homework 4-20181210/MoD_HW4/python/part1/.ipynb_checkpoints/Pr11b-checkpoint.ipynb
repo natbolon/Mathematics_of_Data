{
 "cells": [
  {
   "cell_type": "code",
   "execution_count": 1,
   "metadata": {},
   "outputs": [],
   "source": [
    "import scipy.io\n",
    "import numpy as np\n",
    "from scipy.sparse import csr_matrix\n",
    "from projL1 import projL1\n",
    "from time import time\n",
    "\n",
    "from projL1 import *"
   ]
  },
  {
   "cell_type": "code",
   "execution_count": 2,
   "metadata": {},
   "outputs": [],
   "source": [
    "def projNuc(Z, kappa):\n",
    "    p = Z.shape[0]\n",
    "    # Compute SVD decomposition\n",
    "    U , s, Vt = scipy.linalg.svd(Z) \n",
    "    \n",
    "    # Project into l1 norm ball\n",
    "    s_proj = projL1(s, kappa)\n",
    "    \n",
    "    # Generate diagonal matrix of size [dim(U), dim(Vt)]\n",
    "    S = scipy.sparse.spdiags(s_proj, 0, U.shape[0], Vt.shape[0]) \n",
    "    \n",
    "    #print U.shape, S.shape, Vt.shape\n",
    "    return U.dot(S.toarray()).dot(Vt)"
   ]
  },
  {
   "cell_type": "code",
   "execution_count": 7,
   "metadata": {},
   "outputs": [],
   "source": [
    "data = scipy.io.loadmat('./dataset/ml-100k/ub_base')  # load 100k dataset\n",
    "\n",
    "Rating = data['Rating'].flatten()\n",
    "UserID = data['UserID'].flatten() - 1  # Python indexing starts from 0 whereas Matlab from 1\n",
    "MovID = data['MovID'].flatten() - 1    # Python indexing starts from 0 whereas Matlab from 1\n",
    "\n",
    "nM = np.amax(data['MovID'])\n",
    "nU = np.amax(data['UserID'])\n",
    "\n",
    "Z = csr_matrix((Rating, (MovID, UserID)),shape=(nM, nU),dtype=float).toarray()\n",
    "kappa = 5000\n",
    "\n",
    "def small_projection(Z, kappa):\n",
    "    tstart = time()\n",
    "    Z_proj = projNuc(Z, kappa)\n",
    "    elapsed = time() - tstart\n",
    "    print \"proj for 100k data takes \",elapsed,\" sec\"\n",
    "    return elapsed"
   ]
  },
  {
   "cell_type": "code",
   "execution_count": 8,
   "metadata": {},
   "outputs": [
    {
     "name": "stdout",
     "output_type": "stream",
     "text": [
      "proj for 100k data takes  1.63733196259  sec\n",
      "proj for 100k data takes  1.59432601929  sec\n",
      "proj for 100k data takes  1.71913385391  sec\n",
      "proj for 100k data takes  1.62035608292  sec\n",
      "proj for 100k data takes  1.66920495033  sec\n",
      "mean time for 100k data takes 1.6480705738067627 sec\n"
     ]
    }
   ],
   "source": [
    "time_100k = []\n",
    "\n",
    "for i in range(5):\n",
    "    time_100k.append(small_projection(Z,kappa))\n",
    "\n",
    "print \"mean time for 100k data takes\", np.mean(np.array(time_100k)), \"sec\"\n",
    "    "
   ]
  },
  {
   "cell_type": "code",
   "execution_count": 9,
   "metadata": {},
   "outputs": [],
   "source": [
    "# NOTE: This one can take few minutes!\n",
    "data = scipy.io.loadmat('./dataset/ml-1m/ml1m_base')  # load 1M dataset\n",
    "\n",
    "Rating = data['Rating'].flatten()\n",
    "UserID = data['UserID'].flatten() - 1  # Python indexing starts from 0 whereas Matlab from 1\n",
    "MovID = data['MovID'].flatten() - 1    # Python indexing starts from 0 whereas Matlab from 1\n",
    "\n",
    "nM = np.amax(data['MovID'])\n",
    "nU = np.amax(data['UserID'])\n",
    "\n",
    "Z = csr_matrix((Rating, (MovID, UserID)),shape=(nM, nU),dtype=float).toarray()\n",
    "kappa = 5000\n",
    "\n",
    "def large_projection(Z, kappa):\n",
    "    tstart = time()\n",
    "    Z_proj = projNuc(Z, kappa)\n",
    "    elapsed = time() - tstart\n",
    "    print \"proj for 1M data takes \",elapsed,\" sec\"\n",
    "    return elapsed"
   ]
  },
  {
   "cell_type": "code",
   "execution_count": 10,
   "metadata": {},
   "outputs": [
    {
     "name": "stdout",
     "output_type": "stream",
     "text": [
      "proj for 1M data takes  94.6625452042  sec\n",
      "proj for 1M data takes  93.8041598797  sec\n",
      "proj for 1M data takes  94.7760810852  sec\n",
      "proj for 1M data takes  89.1428310871  sec\n",
      "proj for 1M data takes  90.9789209366  sec\n",
      "mean time for 1M data takes 92.6729076385498 sec\n"
     ]
    }
   ],
   "source": [
    "time_1M = []\n",
    "\n",
    "for i in range(5):\n",
    "    time_1M.append(large_projection(Z,kappa))\n",
    "\n",
    "print \"mean time for 1M data takes\", np.mean(np.array(time_1M)), \"sec\""
   ]
  }
 ],
 "metadata": {
  "anaconda-cloud": {},
  "kernelspec": {
   "display_name": "Python 2",
   "language": "python",
   "name": "python2"
  },
  "language_info": {
   "codemirror_mode": {
    "name": "ipython",
    "version": 2
   },
   "file_extension": ".py",
   "mimetype": "text/x-python",
   "name": "python",
   "nbconvert_exporter": "python",
   "pygments_lexer": "ipython2",
   "version": "2.7.15"
  }
 },
 "nbformat": 4,
 "nbformat_minor": 2
}
